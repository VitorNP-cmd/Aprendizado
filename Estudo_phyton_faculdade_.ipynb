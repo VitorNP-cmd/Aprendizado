{
  "nbformat": 4,
  "nbformat_minor": 0,
  "metadata": {
    "colab": {
      "provenance": [],
      "authorship_tag": "ABX9TyNW2wXYMj2r0EGg++/8v1qj",
      "include_colab_link": true
    },
    "kernelspec": {
      "name": "python3",
      "display_name": "Python 3"
    },
    "language_info": {
      "name": "python"
    }
  },
  "cells": [
    {
      "cell_type": "markdown",
      "metadata": {
        "id": "view-in-github",
        "colab_type": "text"
      },
      "source": [
        "<a href=\"https://colab.research.google.com/github/VitorNP-cmd/Aprendizado/blob/main/Estudo_phyton_faculdade_.ipynb\" target=\"_parent\"><img src=\"https://colab.research.google.com/assets/colab-badge.svg\" alt=\"Open In Colab\"/></a>"
      ]
    },
    {
      "cell_type": "code",
      "execution_count": 2,
      "metadata": {
        "colab": {
          "base_uri": "https://localhost:8080/"
        },
        "id": "PfQ9LbR7OkEj",
        "outputId": "b46309d9-bf8f-4517-e0bd-a1f13ee342ad"
      },
      "outputs": [
        {
          "output_type": "stream",
          "name": "stdout",
          "text": [
            "hello world\n"
          ]
        }
      ],
      "source": [
        "#hello world é o começo de tudo!!\n",
        "print(\"hello world\")"
      ]
    },
    {
      "cell_type": "code",
      "source": [
        "#olá aluno\n",
        "print(\"olá aluno\")"
      ],
      "metadata": {
        "colab": {
          "base_uri": "https://localhost:8080/"
        },
        "id": "yxOcVGuTOspv",
        "outputId": "978546eb-969d-4305-94bc-e32717cecfe9"
      },
      "execution_count": 3,
      "outputs": [
        {
          "output_type": "stream",
          "name": "stdout",
          "text": [
            "olá aluno\n"
          ]
        }
      ]
    },
    {
      "cell_type": "code",
      "source": [
        "x= 10\n",
        "nome = 'aluno'\n",
        "nota = 8.75\n",
        "fez_inscrição = True"
      ],
      "metadata": {
        "id": "-fdK3OiuPJf2"
      },
      "execution_count": 7,
      "outputs": []
    },
    {
      "cell_type": "code",
      "source": [
        "print(type(x))"
      ],
      "metadata": {
        "colab": {
          "base_uri": "https://localhost:8080/"
        },
        "id": "mCdg2vaDP12O",
        "outputId": "df4ac9ed-9714-46a3-886d-a6e03ebd1d45"
      },
      "execution_count": 9,
      "outputs": [
        {
          "output_type": "stream",
          "name": "stdout",
          "text": [
            "<class 'int'>\n"
          ]
        }
      ]
    },
    {
      "cell_type": "code",
      "source": [],
      "metadata": {
        "id": "rjT9VECmP9Qu"
      },
      "execution_count": 9,
      "outputs": []
    },
    {
      "cell_type": "code",
      "source": [],
      "metadata": {
        "id": "NYv1wHFlR3aK"
      },
      "execution_count": null,
      "outputs": []
    },
    {
      "cell_type": "code",
      "source": [
        "nome = input(\"Digite um nome \")"
      ],
      "metadata": {
        "colab": {
          "base_uri": "https://localhost:8080/"
        },
        "id": "gA09K3YfR36H",
        "outputId": "9fd048e3-9ac1-44bd-e6a2-d1ce9c2b20c2"
      },
      "execution_count": 13,
      "outputs": [
        {
          "name": "stdout",
          "output_type": "stream",
          "text": [
            "Digite um nome Vítor\n"
          ]
        }
      ]
    },
    {
      "cell_type": "code",
      "source": [
        "print(nome)"
      ],
      "metadata": {
        "colab": {
          "base_uri": "https://localhost:8080/"
        },
        "id": "ZP-C4pjFR8FJ",
        "outputId": "2ac38fcf-379e-4fdd-da41-5facd568f22b"
      },
      "execution_count": 14,
      "outputs": [
        {
          "output_type": "stream",
          "name": "stdout",
          "text": [
            "Vítor\n"
          ]
        }
      ]
    },
    {
      "cell_type": "code",
      "source": [
        "#formatadores de caracteres\n",
        "print(\"Olá %s, bem-vindo a disciplina de programação. Parabéns pelo seu primeiro hello world\" % (nome))\n",
        "\n",
        "#f_string\n",
        "print(f\"Olá {nome}, bem-vindo a disciplina de programação. Parabéns pelo seu primeiro hello world\")"
      ],
      "metadata": {
        "colab": {
          "base_uri": "https://localhost:8080/"
        },
        "id": "TUrAPReISKSP",
        "outputId": "41c7d82f-9460-43f3-9e15-67f66d06c593"
      },
      "execution_count": 16,
      "outputs": [
        {
          "output_type": "stream",
          "name": "stdout",
          "text": [
            "Olá Vítor, bem-vindo a disciplina de programação. Parabéns pelo seu primeiro hello world\n",
            "Olá Vítor, bem-vindo a disciplina de programação. Parabéns pelo seu primeiro hello world\n"
          ]
        }
      ]
    },
    {
      "cell_type": "code",
      "source": [],
      "metadata": {
        "id": "n3aWowH4S-uY"
      },
      "execution_count": null,
      "outputs": []
    },
    {
      "cell_type": "code",
      "source": [],
      "metadata": {
        "id": "cffKPpjJVODR"
      },
      "execution_count": null,
      "outputs": []
    },
    {
      "cell_type": "code",
      "source": [
        "Nota_1 = int(input(\"Digite a primeira nota \"))\n",
        "Nota_2 = int(input(\"Digite a segunda nota \"))\n",
        "Nota_3 = int(input(\"Digite a terceira nota \"))\n",
        "Nota_4 = int(input(\"Digite a quarta nota \"))\n",
        "#utilização de int(), por o phyton precisa para diferenciar das notas String"
      ],
      "metadata": {
        "colab": {
          "base_uri": "https://localhost:8080/"
        },
        "id": "eayZgLWkVOYP",
        "outputId": "b406dfec-aecc-4359-a7f2-f3c7ce21d98a"
      },
      "execution_count": 26,
      "outputs": [
        {
          "name": "stdout",
          "output_type": "stream",
          "text": [
            "Digite a primeira nota 4\n",
            "Digite a segunda nota 9\n",
            "Digite a terceira nota 8\n",
            "Digite a quarta nota 3\n"
          ]
        }
      ]
    },
    {
      "cell_type": "code",
      "source": [
        "#Condição de aprovado ou reprovado\n",
        "media = (Nota_1+Nota_2+Nota_3+Nota_4)/4\n",
        "\n",
        "if media >= 6:\n",
        "      situação = \"Aprovado\"\n",
        "else:\n",
        "      situação = \"Reprovado\""
      ],
      "metadata": {
        "id": "_VN1BbUUVm7a"
      },
      "execution_count": 27,
      "outputs": []
    },
    {
      "cell_type": "code",
      "source": [
        "#Tendo as notas mostramos a média final e a situação do aluno\n",
        "print(f\"A média das notas é: {media}\")\n",
        "print(f\"A situação do aluno é: {situação}\")"
      ],
      "metadata": {
        "colab": {
          "base_uri": "https://localhost:8080/"
        },
        "id": "sotCUfyJWeeZ",
        "outputId": "5cdc1749-f32b-4b9a-ed9a-042c80be4978"
      },
      "execution_count": 29,
      "outputs": [
        {
          "output_type": "stream",
          "name": "stdout",
          "text": [
            "A média das notas é: 6.0\n",
            "A situação do aluno é: Aprovado\n"
          ]
        }
      ]
    }
  ]
}